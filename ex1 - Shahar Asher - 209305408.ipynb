{
 "cells": [
  {
   "cell_type": "markdown",
   "metadata": {},
   "source": [
    "# <span style=\"color:red\">**exercise 1**</span>\n",
    "![Python logo](./python_logo.gif)\n",
    "---"
   ]
  },
  {
   "cell_type": "markdown",
   "metadata": {},
   "source": [
    "### submited by:\n",
    "- Name: Shahar Asher\n",
    "- Id: 209305408\n",
    "- Email adress: shaharas@edu.hac.ac.il\n",
    "- Date: 07/04/2024\n",
    "\n",
    "### Operation system: Windows 11\n",
    "### python version: 3.11.5 (Using anaconda)\n",
    "### No external libraries were used in this exercise\n",
    "\n",
    "---"
   ]
  },
  {
   "cell_type": "markdown",
   "metadata": {},
   "source": [
    "- In this exercise we will explain the difference between **list comprehension** and **generator comprehension**.\n",
    "---"
   ]
  },
  {
   "cell_type": "markdown",
   "metadata": {},
   "source": [
    "1. List comprehension is a way to create a list in Python. It is a compact way to create a list by iterating over an iterable object. It is more concise and readable than a for loop. List comprehension is faster because it is optimized for the Python interpreter to spot a predictable pattern during looping."
   ]
  },
  {
   "cell_type": "markdown",
   "metadata": {},
   "source": [
    "- Instead of initializing an empty list and adding elements to it, ***like this***:"
   ]
  },
  {
   "cell_type": "code",
   "execution_count": 12,
   "metadata": {},
   "outputs": [],
   "source": [
    "def creat_list_1(n:int)->list:\n",
    "    \"\"\"\n",
    "    Create a list of integers from 0 to n-1.\n",
    "\n",
    "    Args:\n",
    "        n (int): The upper limit (exclusive) for generating integers.\n",
    "\n",
    "    Returns:\n",
    "        list: A list containing integers from 0 to n-1.\n",
    "\n",
    "    Example:\n",
    "        >>> creat_list_1(5)\n",
    "        [0, 1, 2, 3, 4]\n",
    "    \"\"\"\n",
    "    lst = []\n",
    "    for i in range(n): \n",
    "        lst.append(i)\n",
    "    return lst"
   ]
  },
  {
   "cell_type": "code",
   "execution_count": 13,
   "metadata": {},
   "outputs": [
    {
     "name": "stdout",
     "output_type": "stream",
     "text": [
      "[0, 1, 2, 3, 4, 5, 6, 7, 8, 9]\n"
     ]
    }
   ],
   "source": [
    "lst_1 = creat_list_1(10)\n",
    "print(lst_1)"
   ]
  },
  {
   "cell_type": "markdown",
   "metadata": {},
   "source": [
    "- In list comprehension we can do it in one line, ***like this***:"
   ]
  },
  {
   "cell_type": "code",
   "execution_count": 14,
   "metadata": {},
   "outputs": [],
   "source": [
    "def creat_list_2(n:int)->list:\n",
    "    \"\"\"\n",
    "    Create a list of integers from 0 to n-1 using list comprehension.\n",
    "\n",
    "    Args:\n",
    "        n (int): The upper limit (exclusive) for generating integers.\n",
    "\n",
    "    Returns:\n",
    "        list: A list containing integers from 0 to n-1.\n",
    "\n",
    "    Example:\n",
    "        >>> creat_list_2(5)\n",
    "        [0, 1, 2, 3, 4]\n",
    "    \"\"\"\n",
    "    lst = [i for i in range(10)]\n",
    "    return lst"
   ]
  },
  {
   "cell_type": "code",
   "execution_count": 15,
   "metadata": {},
   "outputs": [
    {
     "name": "stdout",
     "output_type": "stream",
     "text": [
      "[0, 1, 2, 3, 4, 5, 6, 7, 8, 9]\n"
     ]
    }
   ],
   "source": [
    "lst_2 = creat_list_2(10)\n",
    "print(lst_2)"
   ]
  },
  {
   "cell_type": "markdown",
   "metadata": {},
   "source": [
    "---\n",
    "\n",
    "2. Generator comprehension is a way to create a generator in Python. It is a compact way to create a generator by iterating over an iterable object. It is more concise and readable than a for loop. Generator comprehension is faster because it is optimized for the Python interpreter to spot a predictable pattern during looping."
   ]
  },
  {
   "cell_type": "markdown",
   "metadata": {},
   "source": [
    "- Instead of yielding elements from a function, ***like this***:"
   ]
  },
  {
   "cell_type": "code",
   "execution_count": 16,
   "metadata": {},
   "outputs": [],
   "source": [
    "def generator_ex_1(n:int)->iter:\n",
    "    \"\"\"\n",
    "    Generate integers from 0 to n-1 using a generator.\n",
    "\n",
    "    Args:\n",
    "        n (int): The upper limit (exclusive) for generating integers.\n",
    "\n",
    "    Yields:\n",
    "        int: Integers from 0 to n-1.\n",
    "\n",
    "    Example:\n",
    "        >>> list(generator_ex_1(5))\n",
    "        [0, 1, 2, 3, 4]\n",
    "    \"\"\"\n",
    "    for i in range(n):\n",
    "        yield i"
   ]
  },
  {
   "cell_type": "markdown",
   "metadata": {},
   "source": [
    "And then if we want to get the elements we can't access the elements like in the list.\n",
    "\n",
    "If we try to access the generator like a list we will get the object type that returns. It's a **generator** type. ***You can see in the example below***:"
   ]
  },
  {
   "cell_type": "code",
   "execution_count": 17,
   "metadata": {},
   "outputs": [
    {
     "name": "stdout",
     "output_type": "stream",
     "text": [
      "<generator object generator_ex_1 at 0x000002908DC87850>\n"
     ]
    }
   ],
   "source": [
    "gen_1 = generator_ex_1(10)\n",
    "print(gen_1)"
   ]
  },
  {
   "cell_type": "markdown",
   "metadata": {},
   "source": [
    "If we want to get the elements we need, you cannot access an element like in a list. We need to loop through the entire generator to get the elements.\n",
    "***You can do it like this***:"
   ]
  },
  {
   "cell_type": "code",
   "execution_count": 18,
   "metadata": {},
   "outputs": [
    {
     "name": "stdout",
     "output_type": "stream",
     "text": [
      "0 1 2 3 4 5 6 7 8 9 "
     ]
    }
   ],
   "source": [
    "for i in gen_1:\n",
    "    print(i, end=' ')"
   ]
  },
  {
   "cell_type": "markdown",
   "metadata": {},
   "source": [
    "- In generator comprehension we can do it in one line too, ***like this***:"
   ]
  },
  {
   "cell_type": "code",
   "execution_count": 19,
   "metadata": {},
   "outputs": [],
   "source": [
    "def generator_ex_2(n:int)->iter:\n",
    "    \"\"\"\n",
    "    Generate integers from 0 to n-1 using a generator expression.\n",
    "\n",
    "    Args:\n",
    "        n (int): The upper limit (exclusive) for generating integers.\n",
    "\n",
    "    Returns:\n",
    "        iter: A generator object that yields integers from 0 to n-1.\n",
    "\n",
    "    Example:\n",
    "        >>> list(generator_ex_2(5))\n",
    "        [0, 1, 2, 3, 4]\n",
    "    \"\"\"\n",
    "    gen_ex = (i for i in range(n))\n",
    "    return gen_ex"
   ]
  },
  {
   "cell_type": "markdown",
   "metadata": {},
   "source": [
    "If we want to get the elements from the generator we have to do the same as we see below in the cells. We need to repeat the generator. ***You can see in the example below***:"
   ]
  },
  {
   "cell_type": "code",
   "execution_count": 20,
   "metadata": {},
   "outputs": [
    {
     "name": "stdout",
     "output_type": "stream",
     "text": [
      "0 1 2 3 4 5 6 7 8 9 "
     ]
    }
   ],
   "source": [
    "gen_2 = generator_ex_2(10)\n",
    "for i in gen_2:\n",
    "    print(i, end=' ')"
   ]
  },
  {
   "cell_type": "markdown",
   "metadata": {},
   "source": [
    "---"
   ]
  },
  {
   "cell_type": "markdown",
   "metadata": {},
   "source": [
    "- In list comprehension we can check the length of the list, but in generator comprehension we can't do it. ***like this***:"
   ]
  },
  {
   "cell_type": "code",
   "execution_count": 21,
   "metadata": {},
   "outputs": [
    {
     "name": "stdout",
     "output_type": "stream",
     "text": [
      "10\n",
      "10\n",
      "we cant get the length of the generator gen_1\n",
      "we cant get the length of the generator gen_2\n"
     ]
    }
   ],
   "source": [
    "# create a list and a generator\n",
    "# lists\n",
    "lst_1 = creat_list_1(10) \n",
    "lst_2 = creat_list_2(10)\n",
    "\n",
    "# generators\n",
    "gen_1 = generator_ex_1(10)\n",
    "gen_2 = generator_ex_2(10)\n",
    "\n",
    "# try to get the length of the two lists\n",
    "print(len(lst_1)) # get the length of the list lst_1\n",
    "print(len(lst_2)) # get the length of the list lst_2\n",
    "\n",
    "# try to get the length of the two generators\n",
    "try: # try to get the length of the generator\n",
    "    print(len(gen_1))\n",
    "except: # if it fails, print the following message\n",
    "    print(\"we cant get the length of the generator gen_1\")\n",
    "try: # try to get the length of the generator\n",
    "    print(len(gen_2))\n",
    "except: # if it fails, print the following message\n",
    "    print(\"we cant get the length of the generator gen_2\")"
   ]
  },
  {
   "cell_type": "markdown",
   "metadata": {},
   "source": [
    "- If we whant to check the length of the generator we need to convert it to a list and then check the length. ***like this***:"
   ]
  },
  {
   "cell_type": "code",
   "execution_count": 22,
   "metadata": {},
   "outputs": [
    {
     "name": "stdout",
     "output_type": "stream",
     "text": [
      "10\n",
      "10\n"
     ]
    }
   ],
   "source": [
    "# convert the generators to lists and get the length\n",
    "print(len(list(gen_1)))\n",
    "print(len(list(gen_2)))"
   ]
  },
  {
   "cell_type": "markdown",
   "metadata": {},
   "source": [
    "---\n",
    "\n",
    "- We can also see that there is a difference in the way we create the list or generator, in the syntax of the creation.\n",
    "\n",
    "In the list comprehension we use the square brackets **[]** and in the generator comprehension we use the **()** brackets.\n",
    "\n",
    "---"
   ]
  },
  {
   "cell_type": "markdown",
   "metadata": {},
   "source": [
    "### the difference between list comprehension and generator comprehension in table:\n",
    "| List comprehension | Generator comprehension |\n",
    "| --- | --- |\n",
    "| [x for x in range(n)] | (x for x in range(n)) |\n",
    "| use square brackets **[]** | use **()** brackets |\n",
    "| List comprehension creates a list containing the result of applying an expression to each item in a sequence. | Generator comprehension creates a generator object, which yields values lazily, one at a time, as they are needed. |\n",
    "| List comprehension returns a list object containing all the elements. | Generator comprehension returns a generator object, which is not evaluated until it is iterated over. |\n",
    "| Elements generated by list comprehension can be printed directly using print(). | Generator comprehension does not allow direct printing of elements using print(). Instead, you need to iterate over the generator to access its elements. |\n",
    "| You can check the length of a list generated by list comprehension using the len() function. | Since generator comprehension yields values lazily, you can't directly check its length. However, you can convert it to a list first using list() and then check the length. |"
   ]
  }
 ],
 "metadata": {
  "kernelspec": {
   "display_name": "base",
   "language": "python",
   "name": "python3"
  },
  "language_info": {
   "codemirror_mode": {
    "name": "ipython",
    "version": 3
   },
   "file_extension": ".py",
   "mimetype": "text/x-python",
   "name": "python",
   "nbconvert_exporter": "python",
   "pygments_lexer": "ipython3",
   "version": "3.11.5"
  }
 },
 "nbformat": 4,
 "nbformat_minor": 2
}
